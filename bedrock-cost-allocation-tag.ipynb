{
 "cells": [
  {
   "cell_type": "code",
   "execution_count": 1,
   "metadata": {},
   "outputs": [
    {
     "name": "stdout",
     "output_type": "stream",
     "text": [
      "Requirement already satisfied: boto3 in c:\\users\\aswpras\\data\\thoughtleadership\\ml speciality\\bedrockcursor\\.venv\\lib\\site-packages (from -r requirements.txt (line 1)) (1.35.64)Note: you may need to restart the kernel to use updated packages.\n",
      "\n",
      "Requirement already satisfied: botocore in c:\\users\\aswpras\\data\\thoughtleadership\\ml speciality\\bedrockcursor\\.venv\\lib\\site-packages (from -r requirements.txt (line 2)) (1.35.64)\n",
      "Requirement already satisfied: jmespath<2.0.0,>=0.7.1 in c:\\users\\aswpras\\data\\thoughtleadership\\ml speciality\\bedrockcursor\\.venv\\lib\\site-packages (from boto3->-r requirements.txt (line 1)) (1.0.1)\n",
      "Requirement already satisfied: s3transfer<0.11.0,>=0.10.0 in c:\\users\\aswpras\\data\\thoughtleadership\\ml speciality\\bedrockcursor\\.venv\\lib\\site-packages (from boto3->-r requirements.txt (line 1)) (0.10.3)\n",
      "Requirement already satisfied: python-dateutil<3.0.0,>=2.1 in c:\\users\\aswpras\\data\\thoughtleadership\\ml speciality\\bedrockcursor\\.venv\\lib\\site-packages (from botocore->-r requirements.txt (line 2)) (2.9.0.post0)\n",
      "Requirement already satisfied: urllib3!=2.2.0,<3,>=1.25.4 in c:\\users\\aswpras\\data\\thoughtleadership\\ml speciality\\bedrockcursor\\.venv\\lib\\site-packages (from botocore->-r requirements.txt (line 2)) (2.2.3)\n",
      "Requirement already satisfied: six>=1.5 in c:\\users\\aswpras\\data\\thoughtleadership\\ml speciality\\bedrockcursor\\.venv\\lib\\site-packages (from python-dateutil<3.0.0,>=2.1->botocore->-r requirements.txt (line 2)) (1.16.0)\n"
     ]
    }
   ],
   "source": [
    "pip install -r requirements.txt\n"
   ]
  },
  {
   "cell_type": "code",
   "execution_count": 2,
   "metadata": {},
   "outputs": [],
   "source": [
    "import boto3\n",
    "import json\n"
   ]
  },
  {
   "cell_type": "code",
   "execution_count": 3,
   "metadata": {},
   "outputs": [],
   "source": [
    "bedrock_client = boto3.client('bedrock', region_name='us-east-1')\n"
   ]
  },
  {
   "cell_type": "code",
   "execution_count": 4,
   "metadata": {},
   "outputs": [],
   "source": [
    "import json\n",
    "def create_application_inference_profile(profile_name: str, model_arn: str, description: str, tags: list):\n",
    "    response =  bedrock_client.create_inference_profile(\n",
    "        inferenceProfileName=profile_name,\n",
    "        description=description,\n",
    "        modelSource={'copyFrom': model_arn},\n",
    "         tags=tags # create tags when creating a custom application inference profile\n",
    "    )\n",
    "    \n",
    "    print(\"CreateInferenceProfile Response:\", response['ResponseMetadata']['HTTPStatusCode']),\n",
    "    print(json.dumps(response, indent=4, sort_keys=True, default=str))\n",
    "    return response\n"
   ]
  },
  {
   "cell_type": "code",
   "execution_count": 5,
   "metadata": {},
   "outputs": [
    {
     "name": "stdout",
     "output_type": "stream",
     "text": [
      "CreateInferenceProfile Response: 201\n",
      "{\n",
      "    \"ResponseMetadata\": {\n",
      "        \"HTTPHeaders\": {\n",
      "            \"connection\": \"keep-alive\",\n",
      "            \"content-length\": \"125\",\n",
      "            \"content-type\": \"application/json\",\n",
      "            \"date\": \"Thu, 05 Dec 2024 13:32:47 GMT\",\n",
      "            \"x-amzn-requestid\": \"a4a8c917-6b29-4ec5-99c7-26b5a77358b5\"\n",
      "        },\n",
      "        \"HTTPStatusCode\": 201,\n",
      "        \"RequestId\": \"a4a8c917-6b29-4ec5-99c7-26b5a77358b5\",\n",
      "        \"RetryAttempts\": 0\n",
      "    },\n",
      "    \"inferenceProfileArn\": \"arn:aws:bedrock:us-east-1:248020845915:application-inference-profile/grzvgahtspkt\",\n",
      "    \"status\": \"ACTIVE\"\n",
      "}\n"
     ]
    }
   ],
   "source": [
    "tags = [{'key': 'dept', 'value': 'claims'}]\n",
    "\n",
    "base_model_arn = \"arn:aws:bedrock:us-east-1::foundation-model/anthropic.claude-3-haiku-20240307-v1:0\"\n",
    "description = \"custom inference profile 05 dec\"\n",
    "us_east_haiku3_custom_profile_v2 = create_application_inference_profile(\"us_east_haiku3_custom_profile_v2\", base_model_arn, description, tags)\n"
   ]
  },
  {
   "cell_type": "code",
   "execution_count": 6,
   "metadata": {},
   "outputs": [
    {
     "data": {
      "text/plain": [
       "'arn:aws:bedrock:us-east-1:248020845915:application-inference-profile/grzvgahtspkt'"
      ]
     },
     "execution_count": 6,
     "metadata": {},
     "output_type": "execute_result"
    }
   ],
   "source": [
    "# Extracting the ARN and retrieving Application Inference Profile ID\n",
    "us_east_haiku3_custom_profile_v2_arn = us_east_haiku3_custom_profile_v2['inferenceProfileArn']\n",
    "us_east_haiku3_custom_profile_v2_arn"
   ]
  },
  {
   "cell_type": "code",
   "execution_count": 7,
   "metadata": {},
   "outputs": [
    {
     "data": {
      "text/plain": [
       "[{'key': 'dept', 'value': 'claims'}]"
      ]
     },
     "execution_count": 7,
     "metadata": {},
     "output_type": "execute_result"
    }
   ],
   "source": [
    "bedrock_client.list_tags_for_resource(resourceARN=us_east_haiku3_custom_profile_v2_arn)['tags']"
   ]
  },
  {
   "cell_type": "code",
   "execution_count": 5,
   "metadata": {},
   "outputs": [
    {
     "name": "stdout",
     "output_type": "stream",
     "text": [
      "Listing all inference profiles...\n",
      "Found 5 inference profiles:\n",
      "{\n",
      "  \"inferenceProfileName\": \"us-east-haiku3-custom-profile\",\n",
      "  \"description\": \"inf profile 29nov\",\n",
      "  \"createdAt\": \"2024-11-29 14:37:34.218038+00:00\",\n",
      "  \"updatedAt\": \"2024-11-29 14:37:34.218038+00:00\",\n",
      "  \"inferenceProfileArn\": \"arn:aws:bedrock:us-east-1:248020845915:application-inference-profile/d2xqascmonz7\",\n",
      "  \"models\": [\n",
      "    {\n",
      "      \"modelArn\": \"arn:aws:bedrock:us-east-1::foundation-model/anthropic.claude-3-haiku-20240307-v1:0\"\n",
      "    }\n",
      "  ],\n",
      "  \"inferenceProfileId\": \"d2xqascmonz7\",\n",
      "  \"status\": \"ACTIVE\",\n",
      "  \"type\": \"APPLICATION\"\n",
      "}\n",
      "{\n",
      "  \"inferenceProfileName\": \"us-east-haiku3-custom-profile\",\n",
      "  \"description\": \"inf profile 29nov\",\n",
      "  \"createdAt\": \"2024-11-29 14:38:21.480089+00:00\",\n",
      "  \"updatedAt\": \"2024-11-29 14:38:21.480089+00:00\",\n",
      "  \"inferenceProfileArn\": \"arn:aws:bedrock:us-east-1:248020845915:application-inference-profile/tmrws6cgoino\",\n",
      "  \"models\": [\n",
      "    {\n",
      "      \"modelArn\": \"arn:aws:bedrock:us-east-1::foundation-model/anthropic.claude-3-haiku-20240307-v1:0\"\n",
      "    }\n",
      "  ],\n",
      "  \"inferenceProfileId\": \"tmrws6cgoino\",\n",
      "  \"status\": \"ACTIVE\",\n",
      "  \"type\": \"APPLICATION\"\n",
      "}\n",
      "{\n",
      "  \"inferenceProfileName\": \"us-east-haiku3-custom-profile\",\n",
      "  \"description\": \"custom inf profile 29nov\",\n",
      "  \"createdAt\": \"2024-11-29 14:44:04.271852+00:00\",\n",
      "  \"updatedAt\": \"2024-11-29 14:44:04.271852+00:00\",\n",
      "  \"inferenceProfileArn\": \"arn:aws:bedrock:us-east-1:248020845915:application-inference-profile/xo3fp1aq6pfh\",\n",
      "  \"models\": [\n",
      "    {\n",
      "      \"modelArn\": \"arn:aws:bedrock:us-east-1::foundation-model/anthropic.claude-3-haiku-20240307-v1:0\"\n",
      "    }\n",
      "  ],\n",
      "  \"inferenceProfileId\": \"xo3fp1aq6pfh\",\n",
      "  \"status\": \"ACTIVE\",\n",
      "  \"type\": \"APPLICATION\"\n",
      "}\n",
      "{\n",
      "  \"inferenceProfileName\": \"us-east-haiku3-custom-profile\",\n",
      "  \"description\": \"custom inf profile 29nov\",\n",
      "  \"createdAt\": \"2024-11-29 14:46:20.964667+00:00\",\n",
      "  \"updatedAt\": \"2024-11-29 14:46:20.964667+00:00\",\n",
      "  \"inferenceProfileArn\": \"arn:aws:bedrock:us-east-1:248020845915:application-inference-profile/205d2byw61wr\",\n",
      "  \"models\": [\n",
      "    {\n",
      "      \"modelArn\": \"arn:aws:bedrock:us-east-1::foundation-model/anthropic.claude-3-haiku-20240307-v1:0\"\n",
      "    }\n",
      "  ],\n",
      "  \"inferenceProfileId\": \"205d2byw61wr\",\n",
      "  \"status\": \"ACTIVE\",\n",
      "  \"type\": \"APPLICATION\"\n",
      "}\n",
      "{\n",
      "  \"inferenceProfileName\": \"us_east_haiku3_custom_profile_02decv1\",\n",
      "  \"description\": \"custom inf profile 02 Dec\",\n",
      "  \"createdAt\": \"2024-12-02 15:13:55.528652+00:00\",\n",
      "  \"updatedAt\": \"2024-12-02 15:13:55.528652+00:00\",\n",
      "  \"inferenceProfileArn\": \"arn:aws:bedrock:us-east-1:248020845915:application-inference-profile/9jcsji45axll\",\n",
      "  \"models\": [\n",
      "    {\n",
      "      \"modelArn\": \"arn:aws:bedrock:us-east-1::foundation-model/anthropic.claude-3-haiku-20240307-v1:0\"\n",
      "    }\n",
      "  ],\n",
      "  \"inferenceProfileId\": \"9jcsji45axll\",\n",
      "  \"status\": \"ACTIVE\",\n",
      "  \"type\": \"APPLICATION\"\n",
      "}\n"
     ]
    }
   ],
   "source": [
    "import json\n",
    "\n",
    "def list_inference_profiles():\n",
    "    response = bedrock_client.list_inference_profiles(typeEquals='APPLICATION')\n",
    "    \n",
    "    print(f\"Found {len(response['inferenceProfileSummaries'])} inference profiles:\")\n",
    "    for profile in response['inferenceProfileSummaries']:\n",
    "        print(json.dumps(profile, indent=2, default=str))\n",
    "           \n",
    "    return response\n",
    "\n",
    "# Test the function\n",
    "print(\"Listing all inference profiles...\")\n",
    "profiles = list_inference_profiles()"
   ]
  },
  {
   "cell_type": "code",
   "execution_count": 8,
   "metadata": {},
   "outputs": [],
   "source": [
    "bedrock_runtime = boto3.client('bedrock-runtime', region_name='us-east-1')"
   ]
  },
  {
   "cell_type": "code",
   "execution_count": null,
   "metadata": {},
   "outputs": [
    {
     "name": "stdout",
     "output_type": "stream",
     "text": [
      "\n",
      "Testing Converse...\n",
      "Converse Response: 200\n",
      "{\n",
      "    \"ResponseMetadata\": {\n",
      "        \"RequestId\": \"a5caeb6c-6b4b-4367-84df-8d503cc8b42c\",\n",
      "        \"HTTPStatusCode\": 200,\n",
      "        \"HTTPHeaders\": {\n",
      "            \"date\": \"Thu, 05 Dec 2024 13:35:23 GMT\",\n",
      "            \"content-type\": \"application/json\",\n",
      "            \"content-length\": \"1469\",\n",
      "            \"connection\": \"keep-alive\",\n",
      "            \"x-amzn-requestid\": \"a5caeb6c-6b4b-4367-84df-8d503cc8b42c\"\n",
      "        },\n",
      "        \"RetryAttempts\": 0\n",
      "    },\n",
      "    \"output\": {\n",
      "        \"message\": {\n",
      "            \"role\": \"assistant\",\n",
      "            \"content\": [\n",
      "                {\n",
      "                    \"text\": \"Sure, I'd be happy to provide an overview of Amazon S3 (Simple Storage Service).\\n\\nS3 is a highly scalable and durable object storage service offered by Amazon Web Services (AWS). It allows you to store and retrieve any amount of data, at any time, from anywhere on the web. Some key features of S3 include:\\n\\n- Data Storage: S3 enables you to store and retrieve data in the form of objects, which can be anything from documents, images, videos, backups, and more. Each object can be up to 5 TB in size.\\n\\n- Durability and Availability: S3 is designed for 11 9's of durability, meaning your data has an extremely low risk of being lost. It also provides high availability, with multiple replicas stored across different availability zones.\\n\\n- Storage Classes: S3 offers different storage classes to meet various needs, such as frequent access (S3 Standard), infrequent access (S3 Standard-IA), or archive storage (S3 Glacier).\\n\\n- Security: S3 provides a range of security features, including access controls, encryption options, and integrated logging and monitoring capabilities.\\n\\n- Integration with Other AWS Services: S3 seamlessly integrates with many other AWS services, allowing you to build complex, scalable applications on the AWS platform.\\n\\n- Pricing: S3 pricing\"\n",
      "                }\n",
      "            ]\n",
      "        }\n",
      "    },\n",
      "    \"stopReason\": \"max_tokens\",\n",
      "    \"usage\": {\n",
      "        \"inputTokens\": 21,\n",
      "        \"outputTokens\": 299,\n",
      "        \"totalTokens\": 320\n",
      "    },\n",
      "    \"metrics\": {\n",
      "        \"latencyMs\": 3764\n",
      "    }\n",
      "}\n",
      "Converse Response: 200\n",
      "{\n",
      "    \"ResponseMetadata\": {\n",
      "        \"RequestId\": \"6f53fdb7-27b1-4651-973a-72fe35ff207c\",\n",
      "        \"HTTPStatusCode\": 200,\n",
      "        \"HTTPHeaders\": {\n",
      "            \"date\": \"Thu, 05 Dec 2024 13:35:26 GMT\",\n",
      "            \"content-type\": \"application/json\",\n",
      "            \"content-length\": \"1463\",\n",
      "            \"connection\": \"keep-alive\",\n",
      "            \"x-amzn-requestid\": \"6f53fdb7-27b1-4651-973a-72fe35ff207c\"\n",
      "        },\n",
      "        \"RetryAttempts\": 0\n",
      "    },\n",
      "    \"output\": {\n",
      "        \"message\": {\n",
      "            \"role\": \"assistant\",\n",
      "            \"content\": [\n",
      "                {\n",
      "                    \"text\": \"Amazon S3 (Simple Storage Service) is a highly scalable and durable object storage service provided by Amazon Web Services (AWS). It is designed to store and retrieve any amount of data, at any time, from anywhere on the web. Here are some key features and capabilities of Amazon S3:\\n\\n1. **Durability and Availability**: S3 is designed for 99.999999999% (11 nines) of durability and 99.99% of availability, making it a reliable storage solution for critical data.\\n\\n2. **Scalability**: S3 can scale up or down to handle any amount of data, from small files to large datasets. It can handle millions of requests per second.\\n\\n3. **Cost-effective Storage**: S3 offers a variety of storage classes (Standard, Intelligent-Tiering, Glacier, etc.) that cater to different storage needs and budget requirements.\\n\\n4. **Security**: S3 provides advanced security features, including encryption, access control, and integration with other AWS security services.\\n\\n5. **Easy Integration**: S3 integrates seamlessly with other AWS services, such as EC2, Lambda, and Kinesis, making it a central component of many AWS-based architectures.\\n\\n6. **Data Management**: S3 offers features like versioning, lifecycle management, and cross-region replication to help manage and protect data\"\n",
      "                }\n",
      "            ]\n",
      "        }\n",
      "    },\n",
      "    \"stopReason\": \"max_tokens\",\n",
      "    \"usage\": {\n",
      "        \"inputTokens\": 20,\n",
      "        \"outputTokens\": 300,\n",
      "        \"totalTokens\": 320\n",
      "    },\n",
      "    \"metrics\": {\n",
      "        \"latencyMs\": 3697\n",
      "    }\n",
      "}\n",
      "Converse Response: 200\n",
      "{\n",
      "    \"ResponseMetadata\": {\n",
      "        \"RequestId\": \"f98bd99c-c8db-40ef-bd5f-504415ab6a69\",\n",
      "        \"HTTPStatusCode\": 200,\n",
      "        \"HTTPHeaders\": {\n",
      "            \"date\": \"Thu, 05 Dec 2024 13:35:31 GMT\",\n",
      "            \"content-type\": \"application/json\",\n",
      "            \"content-length\": \"1497\",\n",
      "            \"connection\": \"keep-alive\",\n",
      "            \"x-amzn-requestid\": \"f98bd99c-c8db-40ef-bd5f-504415ab6a69\"\n",
      "        },\n",
      "        \"RetryAttempts\": 0\n",
      "    },\n",
      "    \"output\": {\n",
      "        \"message\": {\n",
      "            \"role\": \"assistant\",\n",
      "            \"content\": [\n",
      "                {\n",
      "                    \"text\": \"S3, short for Simple Storage Service, is an object storage service provided by Amazon Web Services (AWS). It is one of the core AWS services and is designed to store and retrieve any amount of data, at any time, from anywhere on the web.\\n\\nHere are some key features and capabilities of Amazon S3:\\n\\n1. **Scalable and Durable Storage**: S3 provides virtually unlimited storage capacity and is designed to provide 11 nines (99.999999999%) of durability for data stored in the service.\\n\\n2. **Data Accessibility**: S3 objects can be accessed from anywhere in the world via the AWS Management Console, AWS SDKs, or the S3 REST API. It supports various protocols like HTTP, HTTPS, and Amazon Virtual Private Cloud (VPC) endpoints.\\n\\n3. **Cost-Effective Storage Classes**: S3 offers different storage classes, such as S3 Standard, S3 Intelligent-Tiering, S3 Glacier, and S3 Glacier Deep Archive, each with varying levels of availability, durability, and cost, allowing users to optimize storage costs based on their data access patterns.\\n\\n4. **Lifecycle Management**: S3 provides lifecycle management policies that can automatically transition objects between different storage classes or even delete objects based on user-defined criteria, helping to optimize storage costs.\\n\\n5. **Security and Compliance**:\"\n",
      "                }\n",
      "            ]\n",
      "        }\n",
      "    },\n",
      "    \"stopReason\": \"max_tokens\",\n",
      "    \"usage\": {\n",
      "        \"inputTokens\": 20,\n",
      "        \"outputTokens\": 300,\n",
      "        \"totalTokens\": 320\n",
      "    },\n",
      "    \"metrics\": {\n",
      "        \"latencyMs\": 4155\n",
      "    }\n",
      "}\n"
     ]
    }
   ],
   "source": [
    "def converse(model_id, messages):\n",
    "    \"\"\"Use the Converse API to engage in a conversation with the specified model\"\"\"\n",
    "    response = bedrock_runtime.converse(\n",
    "        modelId=model_id,\n",
    "        messages=messages,\n",
    "        inferenceConfig={\n",
    "            'maxTokens': 300,  # Specify max tokens if needed\n",
    "        }\n",
    "    )\n",
    "    \n",
    "    status_code = response.get('ResponseMetadata', {}).get('HTTPStatusCode')\n",
    "    print(\"Converse Response:\", status_code)\n",
    "    return response\n",
    "\n",
    "# Example of Converse API with Application Inference Profile\n",
    "print(\"\\nTesting Converse...\")\n",
    "prompt = \"\\n\\nHuman: Tell me about S3.\\n\\nAssistant:\"\n",
    "messages = [{\"role\": \"user\", \"content\": [{\"text\": prompt}]}]\n",
    "for i in range(3):\n",
    "    response = converse(us_east_haiku3_custom_profile_v2_arn, messages)\n",
    "    response_json = json.dumps(response, indent=4)\n",
    "    print(response_json)"
   ]
  }
 ],
 "metadata": {
  "kernelspec": {
   "display_name": ".venv",
   "language": "python",
   "name": "python3"
  },
  "language_info": {
   "codemirror_mode": {
    "name": "ipython",
    "version": 3
   },
   "file_extension": ".py",
   "mimetype": "text/x-python",
   "name": "python",
   "nbconvert_exporter": "python",
   "pygments_lexer": "ipython3",
   "version": "3.11.9"
  }
 },
 "nbformat": 4,
 "nbformat_minor": 2
}
